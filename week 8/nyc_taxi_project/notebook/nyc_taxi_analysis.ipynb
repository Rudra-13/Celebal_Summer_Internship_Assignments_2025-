{
  "nbformat": 4,
  "nbformat_minor": 0,
  "metadata": {
    "colab": {
      "provenance": []
    },
    "kernelspec": {
      "name": "python3",
      "display_name": "Python 3"
    },
    "language_info": {
      "name": "python"
    }
  },
  "cells": [
    {
      "cell_type": "code",
      "execution_count": 1,
      "metadata": {
        "colab": {
          "base_uri": "https://localhost:8080/"
        },
        "id": "LQZxu1EHg7M5",
        "outputId": "328f159d-37ca-4398-dfda-68ee6dae2296"
      },
      "outputs": [
        {
          "output_type": "stream",
          "name": "stdout",
          "text": [
            "Requirement already satisfied: pyspark in /usr/local/lib/python3.11/dist-packages (3.5.1)\n",
            "Requirement already satisfied: py4j==0.10.9.7 in /usr/local/lib/python3.11/dist-packages (from pyspark) (0.10.9.7)\n"
          ]
        }
      ],
      "source": [
        "!pip install pyspark  # Run only once per Colab session\n",
        "\n",
        "from pyspark.sql import SparkSession\n",
        "\n",
        "# Start Spark\n",
        "spark = SparkSession.builder.appName(\"NYC_Taxi_Project\").getOrCreate()\n"
      ]
    },
    {
      "cell_type": "code",
      "source": [
        "from google.colab import files\n",
        "uploaded = files.upload()\n"
      ],
      "metadata": {
        "colab": {
          "base_uri": "https://localhost:8080/",
          "height": 108
        },
        "id": "pdIlRZ6Xhwc6",
        "outputId": "0d90f4c3-6f62-4733-8722-d5e1f27354c2"
      },
      "execution_count": 2,
      "outputs": [
        {
          "output_type": "display_data",
          "data": {
            "text/plain": [
              "<IPython.core.display.HTML object>"
            ],
            "text/html": [
              "\n",
              "     <input type=\"file\" id=\"files-068db5ce-62ab-4e5c-9893-64d43d1547d6\" name=\"files[]\" multiple disabled\n",
              "        style=\"border:none\" />\n",
              "     <output id=\"result-068db5ce-62ab-4e5c-9893-64d43d1547d6\">\n",
              "      Upload widget is only available when the cell has been executed in the\n",
              "      current browser session. Please rerun this cell to enable.\n",
              "      </output>\n",
              "      <script>// Copyright 2017 Google LLC\n",
              "//\n",
              "// Licensed under the Apache License, Version 2.0 (the \"License\");\n",
              "// you may not use this file except in compliance with the License.\n",
              "// You may obtain a copy of the License at\n",
              "//\n",
              "//      http://www.apache.org/licenses/LICENSE-2.0\n",
              "//\n",
              "// Unless required by applicable law or agreed to in writing, software\n",
              "// distributed under the License is distributed on an \"AS IS\" BASIS,\n",
              "// WITHOUT WARRANTIES OR CONDITIONS OF ANY KIND, either express or implied.\n",
              "// See the License for the specific language governing permissions and\n",
              "// limitations under the License.\n",
              "\n",
              "/**\n",
              " * @fileoverview Helpers for google.colab Python module.\n",
              " */\n",
              "(function(scope) {\n",
              "function span(text, styleAttributes = {}) {\n",
              "  const element = document.createElement('span');\n",
              "  element.textContent = text;\n",
              "  for (const key of Object.keys(styleAttributes)) {\n",
              "    element.style[key] = styleAttributes[key];\n",
              "  }\n",
              "  return element;\n",
              "}\n",
              "\n",
              "// Max number of bytes which will be uploaded at a time.\n",
              "const MAX_PAYLOAD_SIZE = 100 * 1024;\n",
              "\n",
              "function _uploadFiles(inputId, outputId) {\n",
              "  const steps = uploadFilesStep(inputId, outputId);\n",
              "  const outputElement = document.getElementById(outputId);\n",
              "  // Cache steps on the outputElement to make it available for the next call\n",
              "  // to uploadFilesContinue from Python.\n",
              "  outputElement.steps = steps;\n",
              "\n",
              "  return _uploadFilesContinue(outputId);\n",
              "}\n",
              "\n",
              "// This is roughly an async generator (not supported in the browser yet),\n",
              "// where there are multiple asynchronous steps and the Python side is going\n",
              "// to poll for completion of each step.\n",
              "// This uses a Promise to block the python side on completion of each step,\n",
              "// then passes the result of the previous step as the input to the next step.\n",
              "function _uploadFilesContinue(outputId) {\n",
              "  const outputElement = document.getElementById(outputId);\n",
              "  const steps = outputElement.steps;\n",
              "\n",
              "  const next = steps.next(outputElement.lastPromiseValue);\n",
              "  return Promise.resolve(next.value.promise).then((value) => {\n",
              "    // Cache the last promise value to make it available to the next\n",
              "    // step of the generator.\n",
              "    outputElement.lastPromiseValue = value;\n",
              "    return next.value.response;\n",
              "  });\n",
              "}\n",
              "\n",
              "/**\n",
              " * Generator function which is called between each async step of the upload\n",
              " * process.\n",
              " * @param {string} inputId Element ID of the input file picker element.\n",
              " * @param {string} outputId Element ID of the output display.\n",
              " * @return {!Iterable<!Object>} Iterable of next steps.\n",
              " */\n",
              "function* uploadFilesStep(inputId, outputId) {\n",
              "  const inputElement = document.getElementById(inputId);\n",
              "  inputElement.disabled = false;\n",
              "\n",
              "  const outputElement = document.getElementById(outputId);\n",
              "  outputElement.innerHTML = '';\n",
              "\n",
              "  const pickedPromise = new Promise((resolve) => {\n",
              "    inputElement.addEventListener('change', (e) => {\n",
              "      resolve(e.target.files);\n",
              "    });\n",
              "  });\n",
              "\n",
              "  const cancel = document.createElement('button');\n",
              "  inputElement.parentElement.appendChild(cancel);\n",
              "  cancel.textContent = 'Cancel upload';\n",
              "  const cancelPromise = new Promise((resolve) => {\n",
              "    cancel.onclick = () => {\n",
              "      resolve(null);\n",
              "    };\n",
              "  });\n",
              "\n",
              "  // Wait for the user to pick the files.\n",
              "  const files = yield {\n",
              "    promise: Promise.race([pickedPromise, cancelPromise]),\n",
              "    response: {\n",
              "      action: 'starting',\n",
              "    }\n",
              "  };\n",
              "\n",
              "  cancel.remove();\n",
              "\n",
              "  // Disable the input element since further picks are not allowed.\n",
              "  inputElement.disabled = true;\n",
              "\n",
              "  if (!files) {\n",
              "    return {\n",
              "      response: {\n",
              "        action: 'complete',\n",
              "      }\n",
              "    };\n",
              "  }\n",
              "\n",
              "  for (const file of files) {\n",
              "    const li = document.createElement('li');\n",
              "    li.append(span(file.name, {fontWeight: 'bold'}));\n",
              "    li.append(span(\n",
              "        `(${file.type || 'n/a'}) - ${file.size} bytes, ` +\n",
              "        `last modified: ${\n",
              "            file.lastModifiedDate ? file.lastModifiedDate.toLocaleDateString() :\n",
              "                                    'n/a'} - `));\n",
              "    const percent = span('0% done');\n",
              "    li.appendChild(percent);\n",
              "\n",
              "    outputElement.appendChild(li);\n",
              "\n",
              "    const fileDataPromise = new Promise((resolve) => {\n",
              "      const reader = new FileReader();\n",
              "      reader.onload = (e) => {\n",
              "        resolve(e.target.result);\n",
              "      };\n",
              "      reader.readAsArrayBuffer(file);\n",
              "    });\n",
              "    // Wait for the data to be ready.\n",
              "    let fileData = yield {\n",
              "      promise: fileDataPromise,\n",
              "      response: {\n",
              "        action: 'continue',\n",
              "      }\n",
              "    };\n",
              "\n",
              "    // Use a chunked sending to avoid message size limits. See b/62115660.\n",
              "    let position = 0;\n",
              "    do {\n",
              "      const length = Math.min(fileData.byteLength - position, MAX_PAYLOAD_SIZE);\n",
              "      const chunk = new Uint8Array(fileData, position, length);\n",
              "      position += length;\n",
              "\n",
              "      const base64 = btoa(String.fromCharCode.apply(null, chunk));\n",
              "      yield {\n",
              "        response: {\n",
              "          action: 'append',\n",
              "          file: file.name,\n",
              "          data: base64,\n",
              "        },\n",
              "      };\n",
              "\n",
              "      let percentDone = fileData.byteLength === 0 ?\n",
              "          100 :\n",
              "          Math.round((position / fileData.byteLength) * 100);\n",
              "      percent.textContent = `${percentDone}% done`;\n",
              "\n",
              "    } while (position < fileData.byteLength);\n",
              "  }\n",
              "\n",
              "  // All done.\n",
              "  yield {\n",
              "    response: {\n",
              "      action: 'complete',\n",
              "    }\n",
              "  };\n",
              "}\n",
              "\n",
              "scope.google = scope.google || {};\n",
              "scope.google.colab = scope.google.colab || {};\n",
              "scope.google.colab._files = {\n",
              "  _uploadFiles,\n",
              "  _uploadFilesContinue,\n",
              "};\n",
              "})(self);\n",
              "</script> "
            ]
          },
          "metadata": {}
        },
        {
          "output_type": "stream",
          "name": "stdout",
          "text": [
            "Saving yellow_tripdata_2020-01.parquet to yellow_tripdata_2020-01.parquet\n",
            "Saving yellow_tripdata_2018-01.parquet to yellow_tripdata_2018-01.parquet\n"
          ]
        }
      ]
    },
    {
      "cell_type": "code",
      "source": [
        "df1 = spark.read.parquet(\"yellow_tripdata_2018-01.parquet\")\n",
        "df2 = spark.read.parquet(\"yellow_tripdata_2020-01.parquet\")\n",
        "\n",
        "# Make sure schemas match (same columns)\n",
        "df = df1.union(df2)\n",
        "\n",
        "df.printSchema()\n",
        "df.show(10)\n",
        "\n"
      ],
      "metadata": {
        "colab": {
          "base_uri": "https://localhost:8080/"
        },
        "id": "Hw1YPBIcmIY1",
        "outputId": "24bfba50-e973-4123-a28b-dc74efe71554"
      },
      "execution_count": 4,
      "outputs": [
        {
          "output_type": "stream",
          "name": "stdout",
          "text": [
            "root\n",
            " |-- VendorID: long (nullable = true)\n",
            " |-- tpep_pickup_datetime: timestamp_ntz (nullable = true)\n",
            " |-- tpep_dropoff_datetime: timestamp_ntz (nullable = true)\n",
            " |-- passenger_count: double (nullable = true)\n",
            " |-- trip_distance: double (nullable = true)\n",
            " |-- RatecodeID: double (nullable = true)\n",
            " |-- store_and_fwd_flag: string (nullable = true)\n",
            " |-- PULocationID: long (nullable = true)\n",
            " |-- DOLocationID: long (nullable = true)\n",
            " |-- payment_type: long (nullable = true)\n",
            " |-- fare_amount: double (nullable = true)\n",
            " |-- extra: double (nullable = true)\n",
            " |-- mta_tax: double (nullable = true)\n",
            " |-- tip_amount: double (nullable = true)\n",
            " |-- tolls_amount: double (nullable = true)\n",
            " |-- improvement_surcharge: double (nullable = true)\n",
            " |-- total_amount: double (nullable = true)\n",
            " |-- congestion_surcharge: double (nullable = true)\n",
            " |-- airport_fee: double (nullable = true)\n",
            "\n",
            "+--------+--------------------+---------------------+---------------+-------------+----------+------------------+------------+------------+------------+-----------+-----+-------+----------+------------+---------------------+------------+--------------------+-----------+\n",
            "|VendorID|tpep_pickup_datetime|tpep_dropoff_datetime|passenger_count|trip_distance|RatecodeID|store_and_fwd_flag|PULocationID|DOLocationID|payment_type|fare_amount|extra|mta_tax|tip_amount|tolls_amount|improvement_surcharge|total_amount|congestion_surcharge|airport_fee|\n",
            "+--------+--------------------+---------------------+---------------+-------------+----------+------------------+------------+------------+------------+-----------+-----+-------+----------+------------+---------------------+------------+--------------------+-----------+\n",
            "|       1| 2018-01-01 00:21:05|  2018-01-01 00:24:23|            1.0|          0.5|       1.0|                 N|          41|          24|           2|        4.5|  0.5|    0.5|       0.0|         0.0|                  0.3|         5.8|                NULL|       NULL|\n",
            "|       1| 2018-01-01 00:44:55|  2018-01-01 01:03:05|            1.0|          2.7|       1.0|                 N|         239|         140|           2|       14.0|  0.5|    0.5|       0.0|         0.0|                  0.3|        15.3|                NULL|       NULL|\n",
            "|       1| 2018-01-01 00:08:26|  2018-01-01 00:14:21|            2.0|          0.8|       1.0|                 N|         262|         141|           1|        6.0|  0.5|    0.5|       1.0|         0.0|                  0.3|         8.3|                NULL|       NULL|\n",
            "|       1| 2018-01-01 00:20:22|  2018-01-01 00:52:51|            1.0|         10.2|       1.0|                 N|         140|         257|           2|       33.5|  0.5|    0.5|       0.0|         0.0|                  0.3|        34.8|                NULL|       NULL|\n",
            "|       1| 2018-01-01 00:09:18|  2018-01-01 00:27:06|            2.0|          2.5|       1.0|                 N|         246|         239|           1|       12.5|  0.5|    0.5|      2.75|         0.0|                  0.3|       16.55|                NULL|       NULL|\n",
            "|       1| 2018-01-01 00:29:29|  2018-01-01 00:32:48|            3.0|          0.5|       1.0|                 N|         143|         143|           2|        4.5|  0.5|    0.5|       0.0|         0.0|                  0.3|         5.8|                NULL|       NULL|\n",
            "|       1| 2018-01-01 00:38:08|  2018-01-01 00:48:24|            2.0|          1.7|       1.0|                 N|          50|         239|           1|        9.0|  0.5|    0.5|      2.05|         0.0|                  0.3|       12.35|                NULL|       NULL|\n",
            "|       1| 2018-01-01 00:49:29|  2018-01-01 00:51:53|            1.0|          0.7|       1.0|                 N|         239|         238|           1|        4.0|  0.5|    0.5|       1.0|         0.0|                  0.3|         6.3|                NULL|       NULL|\n",
            "|       1| 2018-01-01 00:56:38|  2018-01-01 01:01:05|            1.0|          1.0|       1.0|                 N|         238|          24|           1|        5.5|  0.5|    0.5|       1.7|         0.0|                  0.3|         8.5|                NULL|       NULL|\n",
            "|       1| 2018-01-01 00:17:04|  2018-01-01 00:22:24|            1.0|          0.7|       1.0|                 N|         170|         170|           2|        5.5|  0.5|    0.5|       0.0|         0.0|                  0.3|         6.8|                NULL|       NULL|\n",
            "+--------+--------------------+---------------------+---------------+-------------+----------+------------------+------------+------------+------------+-----------+-----+-------+----------+------------+---------------------+------------+--------------------+-----------+\n",
            "only showing top 10 rows\n",
            "\n"
          ]
        }
      ]
    },
    {
      "cell_type": "code",
      "source": [
        "from pyspark.sql.functions import year\n",
        "\n",
        "df.withColumn(\"year\", year(\"tpep_pickup_datetime\")).select(\"year\").distinct().show()\n"
      ],
      "metadata": {
        "colab": {
          "base_uri": "https://localhost:8080/"
        },
        "id": "2B5wV-k2mRvw",
        "outputId": "1cb95186-c95a-469b-cea4-4a4446f79628"
      },
      "execution_count": 5,
      "outputs": [
        {
          "output_type": "stream",
          "name": "stdout",
          "text": [
            "+----+\n",
            "|year|\n",
            "+----+\n",
            "|2003|\n",
            "|2018|\n",
            "|2009|\n",
            "|2001|\n",
            "|2008|\n",
            "|2017|\n",
            "|2002|\n",
            "|2019|\n",
            "|2020|\n",
            "|2021|\n",
            "+----+\n",
            "\n"
          ]
        }
      ]
    },
    {
      "cell_type": "code",
      "source": [
        "from pyspark.sql.functions import col\n",
        "\n",
        "df = df.withColumn(\"Revenue\",\n",
        "    col(\"fare_amount\") + col(\"extra\") + col(\"mta_tax\") +\n",
        "    col(\"improvement_surcharge\") + col(\"tip_amount\") +\n",
        "    col(\"tolls_amount\") + col(\"total_amount\")\n",
        ")\n",
        "\n",
        "df.select(\"Revenue\").show(10)\n"
      ],
      "metadata": {
        "colab": {
          "base_uri": "https://localhost:8080/"
        },
        "id": "XMVmLSnhmbJC",
        "outputId": "6d88b00d-a368-44ab-c013-cee3dbfa34d0"
      },
      "execution_count": 7,
      "outputs": [
        {
          "output_type": "stream",
          "name": "stdout",
          "text": [
            "+------------------+\n",
            "|           Revenue|\n",
            "+------------------+\n",
            "|              11.6|\n",
            "|              30.6|\n",
            "|              16.6|\n",
            "|              69.6|\n",
            "|              33.1|\n",
            "|              11.6|\n",
            "|24.700000000000003|\n",
            "|              12.6|\n",
            "|              17.0|\n",
            "|              13.6|\n",
            "+------------------+\n",
            "only showing top 10 rows\n",
            "\n"
          ]
        }
      ]
    },
    {
      "cell_type": "code",
      "source": [
        "from pyspark.sql.functions import sum as _sum\n",
        "\n",
        "df.groupBy(\"PULocationID\") \\\n",
        "  .agg(_sum(\"passenger_count\").alias(\"total_passengers\")) \\\n",
        "  .orderBy(\"total_passengers\", ascending=False) \\\n",
        "  .show(10)\n"
      ],
      "metadata": {
        "colab": {
          "base_uri": "https://localhost:8080/"
        },
        "id": "MLeR8F_fm0Me",
        "outputId": "bf8cfb43-4a8a-4f44-f069-3b01d04b8c83"
      },
      "execution_count": 8,
      "outputs": [
        {
          "output_type": "stream",
          "name": "stdout",
          "text": [
            "+------------+----------------+\n",
            "|PULocationID|total_passengers|\n",
            "+------------+----------------+\n",
            "|         237|       1006231.0|\n",
            "|         161|        999902.0|\n",
            "|         236|        954194.0|\n",
            "|         230|        871699.0|\n",
            "|         162|        841749.0|\n",
            "|         186|        799081.0|\n",
            "|         234|        740300.0|\n",
            "|          48|        735460.0|\n",
            "|         170|        730158.0|\n",
            "|         142|        721599.0|\n",
            "+------------+----------------+\n",
            "only showing top 10 rows\n",
            "\n"
          ]
        }
      ]
    },
    {
      "cell_type": "code",
      "source": [
        "from pyspark.sql.functions import avg\n",
        "\n",
        "df.groupBy(\"VendorID\") \\\n",
        "  .agg(\n",
        "      avg(\"fare_amount\").alias(\"avg_fare\"),\n",
        "      avg(\"total_amount\").alias(\"avg_total_earning\")\n",
        "  ) \\\n",
        "  .orderBy(\"VendorID\") \\\n",
        "  .show(10)\n"
      ],
      "metadata": {
        "colab": {
          "base_uri": "https://localhost:8080/"
        },
        "id": "1b2KNJrBnBLK",
        "outputId": "8ee37291-03ad-4645-b240-d3c2170543de"
      },
      "execution_count": 9,
      "outputs": [
        {
          "output_type": "stream",
          "name": "stdout",
          "text": [
            "+--------+------------------+------------------+\n",
            "|VendorID|          avg_fare| avg_total_earning|\n",
            "+--------+------------------+------------------+\n",
            "|       1|12.055622533380596|16.180159728476944|\n",
            "|       2|12.678202108439645|17.249695015684615|\n",
            "|       5| 48.84400000000001|            63.754|\n",
            "+--------+------------------+------------------+\n",
            "\n"
          ]
        }
      ]
    },
    {
      "cell_type": "code",
      "source": [
        "from pyspark.sql.window import Window\n",
        "from pyspark.sql.functions import count\n",
        "\n",
        "# Ensure datetime is sorted properly\n",
        "window_spec = Window.partitionBy(\"payment_type\").orderBy(\"tpep_pickup_datetime\").rowsBetween(-10, 0)\n",
        "\n",
        "df.withColumn(\"moving_count\", count(\"*\").over(window_spec)) \\\n",
        "  .select(\"payment_type\", \"tpep_pickup_datetime\", \"moving_count\") \\\n",
        "  .show(10)\n"
      ],
      "metadata": {
        "colab": {
          "base_uri": "https://localhost:8080/"
        },
        "id": "15w8Wdf8nM0K",
        "outputId": "06ab8904-b885-4451-b0a4-9c3b9bcf8b8b"
      },
      "execution_count": 10,
      "outputs": [
        {
          "output_type": "stream",
          "name": "stdout",
          "text": [
            "+------------+--------------------+------------+\n",
            "|payment_type|tpep_pickup_datetime|moving_count|\n",
            "+------------+--------------------+------------+\n",
            "|           0| 2020-01-01 00:01:51|           1|\n",
            "|           0| 2020-01-01 00:02:00|           2|\n",
            "|           0| 2020-01-01 00:02:38|           3|\n",
            "|           0| 2020-01-01 00:02:38|           4|\n",
            "|           0| 2020-01-01 00:03:00|           5|\n",
            "|           0| 2020-01-01 00:03:00|           6|\n",
            "|           0| 2020-01-01 00:06:00|           7|\n",
            "|           0| 2020-01-01 00:06:02|           8|\n",
            "|           0| 2020-01-01 00:08:00|           9|\n",
            "|           0| 2020-01-01 00:10:37|          10|\n",
            "+------------+--------------------+------------+\n",
            "only showing top 10 rows\n",
            "\n"
          ]
        }
      ]
    },
    {
      "cell_type": "code",
      "source": [
        "from pyspark.sql.functions import to_date, rank, sum as _sum\n",
        "from pyspark.sql.window import Window\n",
        "\n",
        "# Extract trip date from pickup datetime\n",
        "df_daily = df.withColumn(\"trip_date\", to_date(\"tpep_pickup_datetime\"))\n",
        "\n",
        "# Aggregate daily total stats per vendor\n",
        "agg_df = df_daily.groupBy(\"VendorID\", \"trip_date\").agg(\n",
        "    _sum(\"passenger_count\").alias(\"total_passengers\"),\n",
        "    _sum(\"trip_distance\").alias(\"total_distance\"),\n",
        "    _sum(\"total_amount\").alias(\"total_earning\")\n",
        ")\n",
        "\n",
        "# Window spec to rank vendors by earnings per day\n",
        "vendor_window = Window.partitionBy(\"trip_date\").orderBy(col(\"total_earning\").desc())\n",
        "\n",
        "# Apply rank and filter top 2\n",
        "top_vendors = agg_df.withColumn(\"rank\", rank().over(vendor_window)) \\\n",
        "                    .filter(\"rank <= 2\") \\\n",
        "                    .orderBy(\"trip_date\", \"rank\")\n",
        "\n",
        "top_vendors.show(10)\n"
      ],
      "metadata": {
        "colab": {
          "base_uri": "https://localhost:8080/"
        },
        "id": "UKXCox06nhtP",
        "outputId": "7cc719c8-b073-4613-a5f7-368bb4d86e26"
      },
      "execution_count": 11,
      "outputs": [
        {
          "output_type": "stream",
          "name": "stdout",
          "text": [
            "+--------+----------+----------------+------------------+------------------+----+\n",
            "|VendorID| trip_date|total_passengers|    total_distance|     total_earning|rank|\n",
            "+--------+----------+----------------+------------------+------------------+----+\n",
            "|       2|2001-01-05|             5.0|              1.53|               8.8|   1|\n",
            "|       2|2002-12-31|            14.0| 8.049999999999999|43.260000000000005|   1|\n",
            "|       2|2003-01-01|             6.0|             47.89|            165.42|   1|\n",
            "|       2|2008-12-31|            34.0|130.17999999999998| 592.1500000000001|   1|\n",
            "|       2|2009-01-01|            51.0|141.91000000000003| 713.6900000000003|   1|\n",
            "|       2|2017-01-02|             1.0|               0.0|               2.9|   1|\n",
            "|       2|2017-01-03|             1.0|               0.0|               2.5|   1|\n",
            "|       2|2017-12-31|           532.0| 673.1999999999999| 3482.430000000006|   1|\n",
            "|       2|2018-01-01|        269871.0| 486080.0100000093|2329998.2300013932|   1|\n",
            "|       1|2018-01-01|        136562.0|311962.80000000057|1522487.9300017091|   2|\n",
            "+--------+----------+----------------+------------------+------------------+----+\n",
            "only showing top 10 rows\n",
            "\n"
          ]
        }
      ]
    },
    {
      "cell_type": "code",
      "source": [
        "df.groupBy(\"PULocationID\", \"DOLocationID\") \\\n",
        "  .agg(_sum(\"passenger_count\").alias(\"total_passengers\")) \\\n",
        "  .orderBy(\"total_passengers\", ascending=False) \\\n",
        "  .show(10)\n"
      ],
      "metadata": {
        "colab": {
          "base_uri": "https://localhost:8080/"
        },
        "id": "wH4qu9nBnoqg",
        "outputId": "0628971d-112b-4bec-dda3-cdac60b66c06"
      },
      "execution_count": 12,
      "outputs": [
        {
          "output_type": "stream",
          "name": "stdout",
          "text": [
            "+------------+------------+----------------+\n",
            "|PULocationID|DOLocationID|total_passengers|\n",
            "+------------+------------+----------------+\n",
            "|         264|         264|        231494.0|\n",
            "|         237|         236|        154622.0|\n",
            "|         236|         236|        136353.0|\n",
            "|         236|         237|        128240.0|\n",
            "|         237|         237|        114256.0|\n",
            "|         239|         238|         74881.0|\n",
            "|         239|         142|         71138.0|\n",
            "|         142|         239|         67625.0|\n",
            "|         238|         239|         63189.0|\n",
            "|         141|         236|         62051.0|\n",
            "+------------+------------+----------------+\n",
            "only showing top 10 rows\n",
            "\n"
          ]
        }
      ]
    },
    {
      "cell_type": "code",
      "source": [
        "from pyspark.sql.functions import unix_timestamp\n",
        "\n",
        "# Get the latest timestamp in the dataset\n",
        "latest_ts = df.select(unix_timestamp(\"tpep_pickup_datetime\").alias(\"ts\")) \\\n",
        "              .agg({\"ts\": \"max\"}).collect()[0][0]\n",
        "\n",
        "df.withColumn(\"ts\", unix_timestamp(\"tpep_pickup_datetime\")) \\\n",
        "  .filter(f\"ts >= {latest_ts - 10}\") \\\n",
        "  .groupBy(\"PULocationID\") \\\n",
        "  .agg(_sum(\"passenger_count\").alias(\"recent_passengers\")) \\\n",
        "  .orderBy(\"recent_passengers\", ascending=False) \\\n",
        "  .show(10)\n"
      ],
      "metadata": {
        "colab": {
          "base_uri": "https://localhost:8080/"
        },
        "id": "MrVYyYxYns8u",
        "outputId": "7fd4cc19-431e-4c9c-c8f3-2d53898cdbbe"
      },
      "execution_count": 14,
      "outputs": [
        {
          "output_type": "stream",
          "name": "stdout",
          "text": [
            "+------------+-----------------+\n",
            "|PULocationID|recent_passengers|\n",
            "+------------+-----------------+\n",
            "|          90|              1.0|\n",
            "+------------+-----------------+\n",
            "\n"
          ]
        }
      ]
    },
    {
      "cell_type": "code",
      "source": [
        "df.write.parquet(\"combined_nyc_data.parquet\", mode=\"overwrite\")\n"
      ],
      "metadata": {
        "id": "2i9eSiZJn5aU"
      },
      "execution_count": 15,
      "outputs": []
    },
    {
      "cell_type": "code",
      "source": [
        "# Bonus (Optional): Save Results as Parquet\n",
        "import os\n",
        "os.listdir(\"combined_nyc_data.parquet\")\n"
      ],
      "metadata": {
        "colab": {
          "base_uri": "https://localhost:8080/"
        },
        "id": "oCv4gJ9rogxH",
        "outputId": "36201c86-256d-44df-a4ce-8d6dd9f74b2d"
      },
      "execution_count": 16,
      "outputs": [
        {
          "output_type": "execute_result",
          "data": {
            "text/plain": [
              "['._SUCCESS.crc',\n",
              " 'part-00002-db2fbe48-7a4b-4ad6-9091-22765c654565-c000.snappy.parquet',\n",
              " '.part-00002-db2fbe48-7a4b-4ad6-9091-22765c654565-c000.snappy.parquet.crc',\n",
              " '_SUCCESS',\n",
              " 'part-00000-db2fbe48-7a4b-4ad6-9091-22765c654565-c000.snappy.parquet',\n",
              " '.part-00000-db2fbe48-7a4b-4ad6-9091-22765c654565-c000.snappy.parquet.crc']"
            ]
          },
          "metadata": {},
          "execution_count": 16
        }
      ]
    },
    {
      "cell_type": "code",
      "source": [
        "from google.colab import files\n",
        "files.download(\"combined_nyc_data.parquet/YOUR_ACTUAL_FILENAME.parquet\")\n"
      ],
      "metadata": {
        "colab": {
          "base_uri": "https://localhost:8080/",
          "height": 280
        },
        "id": "DyrhPvzJpqnc",
        "outputId": "8a6456bc-82b1-45ae-e353-22bca5bb5cbf"
      },
      "execution_count": 17,
      "outputs": [
        {
          "output_type": "error",
          "ename": "FileNotFoundError",
          "evalue": "Cannot find file: combined_nyc_data.parquet/YOUR_ACTUAL_FILENAME.parquet",
          "traceback": [
            "\u001b[0;31m---------------------------------------------------------------------------\u001b[0m",
            "\u001b[0;31mFileNotFoundError\u001b[0m                         Traceback (most recent call last)",
            "\u001b[0;32m/tmp/ipython-input-17-1857599191.py\u001b[0m in \u001b[0;36m<cell line: 0>\u001b[0;34m()\u001b[0m\n\u001b[1;32m      1\u001b[0m \u001b[0;32mfrom\u001b[0m \u001b[0mgoogle\u001b[0m\u001b[0;34m.\u001b[0m\u001b[0mcolab\u001b[0m \u001b[0;32mimport\u001b[0m \u001b[0mfiles\u001b[0m\u001b[0;34m\u001b[0m\u001b[0;34m\u001b[0m\u001b[0m\n\u001b[0;32m----> 2\u001b[0;31m \u001b[0mfiles\u001b[0m\u001b[0;34m.\u001b[0m\u001b[0mdownload\u001b[0m\u001b[0;34m(\u001b[0m\u001b[0;34m\"combined_nyc_data.parquet/YOUR_ACTUAL_FILENAME.parquet\"\u001b[0m\u001b[0;34m)\u001b[0m\u001b[0;34m\u001b[0m\u001b[0;34m\u001b[0m\u001b[0m\n\u001b[0m",
            "\u001b[0;32m/usr/local/lib/python3.11/dist-packages/google/colab/files.py\u001b[0m in \u001b[0;36mdownload\u001b[0;34m(filename)\u001b[0m\n\u001b[1;32m    231\u001b[0m   \u001b[0;32mif\u001b[0m \u001b[0;32mnot\u001b[0m \u001b[0m_os\u001b[0m\u001b[0;34m.\u001b[0m\u001b[0mpath\u001b[0m\u001b[0;34m.\u001b[0m\u001b[0mexists\u001b[0m\u001b[0;34m(\u001b[0m\u001b[0mfilename\u001b[0m\u001b[0;34m)\u001b[0m\u001b[0;34m:\u001b[0m\u001b[0;34m\u001b[0m\u001b[0;34m\u001b[0m\u001b[0m\n\u001b[1;32m    232\u001b[0m     \u001b[0mmsg\u001b[0m \u001b[0;34m=\u001b[0m \u001b[0;34m'Cannot find file: {}'\u001b[0m\u001b[0;34m.\u001b[0m\u001b[0mformat\u001b[0m\u001b[0;34m(\u001b[0m\u001b[0mfilename\u001b[0m\u001b[0;34m)\u001b[0m\u001b[0;34m\u001b[0m\u001b[0;34m\u001b[0m\u001b[0m\n\u001b[0;32m--> 233\u001b[0;31m     \u001b[0;32mraise\u001b[0m \u001b[0mFileNotFoundError\u001b[0m\u001b[0;34m(\u001b[0m\u001b[0mmsg\u001b[0m\u001b[0;34m)\u001b[0m  \u001b[0;31m# pylint: disable=undefined-variable\u001b[0m\u001b[0;34m\u001b[0m\u001b[0;34m\u001b[0m\u001b[0m\n\u001b[0m\u001b[1;32m    234\u001b[0m \u001b[0;34m\u001b[0m\u001b[0m\n\u001b[1;32m    235\u001b[0m   \u001b[0mcomm_manager\u001b[0m \u001b[0;34m=\u001b[0m \u001b[0m_IPython\u001b[0m\u001b[0;34m.\u001b[0m\u001b[0mget_ipython\u001b[0m\u001b[0;34m(\u001b[0m\u001b[0;34m)\u001b[0m\u001b[0;34m.\u001b[0m\u001b[0mkernel\u001b[0m\u001b[0;34m.\u001b[0m\u001b[0mcomm_manager\u001b[0m\u001b[0;34m\u001b[0m\u001b[0;34m\u001b[0m\u001b[0m\n",
            "\u001b[0;31mFileNotFoundError\u001b[0m: Cannot find file: combined_nyc_data.parquet/YOUR_ACTUAL_FILENAME.parquet"
          ]
        }
      ]
    },
    {
      "cell_type": "code",
      "source": [
        "from google.colab import files\n",
        "files.download(\"combined_nyc_data.parquet/part-00000-a885ebf6-99fc-43b1-a84a-6af58bfb90f4-c000.snappy.parquet\")\n"
      ],
      "metadata": {
        "colab": {
          "base_uri": "https://localhost:8080/",
          "height": 280
        },
        "id": "huRlk5ULpwao",
        "outputId": "055ba0cc-33c4-4cc6-8657-e2e8500404c6"
      },
      "execution_count": 18,
      "outputs": [
        {
          "output_type": "error",
          "ename": "FileNotFoundError",
          "evalue": "Cannot find file: combined_nyc_data.parquet/part-00000-a885ebf6-99fc-43b1-a84a-6af58bfb90f4-c000.snappy.parquet",
          "traceback": [
            "\u001b[0;31m---------------------------------------------------------------------------\u001b[0m",
            "\u001b[0;31mFileNotFoundError\u001b[0m                         Traceback (most recent call last)",
            "\u001b[0;32m/tmp/ipython-input-18-614496055.py\u001b[0m in \u001b[0;36m<cell line: 0>\u001b[0;34m()\u001b[0m\n\u001b[1;32m      1\u001b[0m \u001b[0;32mfrom\u001b[0m \u001b[0mgoogle\u001b[0m\u001b[0;34m.\u001b[0m\u001b[0mcolab\u001b[0m \u001b[0;32mimport\u001b[0m \u001b[0mfiles\u001b[0m\u001b[0;34m\u001b[0m\u001b[0;34m\u001b[0m\u001b[0m\n\u001b[0;32m----> 2\u001b[0;31m \u001b[0mfiles\u001b[0m\u001b[0;34m.\u001b[0m\u001b[0mdownload\u001b[0m\u001b[0;34m(\u001b[0m\u001b[0;34m\"combined_nyc_data.parquet/part-00000-a885ebf6-99fc-43b1-a84a-6af58bfb90f4-c000.snappy.parquet\"\u001b[0m\u001b[0;34m)\u001b[0m\u001b[0;34m\u001b[0m\u001b[0;34m\u001b[0m\u001b[0m\n\u001b[0m",
            "\u001b[0;32m/usr/local/lib/python3.11/dist-packages/google/colab/files.py\u001b[0m in \u001b[0;36mdownload\u001b[0;34m(filename)\u001b[0m\n\u001b[1;32m    231\u001b[0m   \u001b[0;32mif\u001b[0m \u001b[0;32mnot\u001b[0m \u001b[0m_os\u001b[0m\u001b[0;34m.\u001b[0m\u001b[0mpath\u001b[0m\u001b[0;34m.\u001b[0m\u001b[0mexists\u001b[0m\u001b[0;34m(\u001b[0m\u001b[0mfilename\u001b[0m\u001b[0;34m)\u001b[0m\u001b[0;34m:\u001b[0m\u001b[0;34m\u001b[0m\u001b[0;34m\u001b[0m\u001b[0m\n\u001b[1;32m    232\u001b[0m     \u001b[0mmsg\u001b[0m \u001b[0;34m=\u001b[0m \u001b[0;34m'Cannot find file: {}'\u001b[0m\u001b[0;34m.\u001b[0m\u001b[0mformat\u001b[0m\u001b[0;34m(\u001b[0m\u001b[0mfilename\u001b[0m\u001b[0;34m)\u001b[0m\u001b[0;34m\u001b[0m\u001b[0;34m\u001b[0m\u001b[0m\n\u001b[0;32m--> 233\u001b[0;31m     \u001b[0;32mraise\u001b[0m \u001b[0mFileNotFoundError\u001b[0m\u001b[0;34m(\u001b[0m\u001b[0mmsg\u001b[0m\u001b[0;34m)\u001b[0m  \u001b[0;31m# pylint: disable=undefined-variable\u001b[0m\u001b[0;34m\u001b[0m\u001b[0;34m\u001b[0m\u001b[0m\n\u001b[0m\u001b[1;32m    234\u001b[0m \u001b[0;34m\u001b[0m\u001b[0m\n\u001b[1;32m    235\u001b[0m   \u001b[0mcomm_manager\u001b[0m \u001b[0;34m=\u001b[0m \u001b[0m_IPython\u001b[0m\u001b[0;34m.\u001b[0m\u001b[0mget_ipython\u001b[0m\u001b[0;34m(\u001b[0m\u001b[0;34m)\u001b[0m\u001b[0;34m.\u001b[0m\u001b[0mkernel\u001b[0m\u001b[0;34m.\u001b[0m\u001b[0mcomm_manager\u001b[0m\u001b[0;34m\u001b[0m\u001b[0;34m\u001b[0m\u001b[0m\n",
            "\u001b[0;31mFileNotFoundError\u001b[0m: Cannot find file: combined_nyc_data.parquet/part-00000-a885ebf6-99fc-43b1-a84a-6af58bfb90f4-c000.snappy.parquet"
          ]
        }
      ]
    },
    {
      "cell_type": "code",
      "source": [
        "files.download(\"combined_nyc_data.parquet/part-00002-a885ebf6-99fc-43b1-a84a-6af58bfb90f4-c000.snappy.parquet\")\n"
      ],
      "metadata": {
        "colab": {
          "base_uri": "https://localhost:8080/",
          "height": 263
        },
        "id": "YjJn8l3Mpz9k",
        "outputId": "1719c3f2-f09d-41f6-b384-56784733a6ac"
      },
      "execution_count": 19,
      "outputs": [
        {
          "output_type": "error",
          "ename": "FileNotFoundError",
          "evalue": "Cannot find file: combined_nyc_data.parquet/part-00002-a885ebf6-99fc-43b1-a84a-6af58bfb90f4-c000.snappy.parquet",
          "traceback": [
            "\u001b[0;31m---------------------------------------------------------------------------\u001b[0m",
            "\u001b[0;31mFileNotFoundError\u001b[0m                         Traceback (most recent call last)",
            "\u001b[0;32m/tmp/ipython-input-19-2204211529.py\u001b[0m in \u001b[0;36m<cell line: 0>\u001b[0;34m()\u001b[0m\n\u001b[0;32m----> 1\u001b[0;31m \u001b[0mfiles\u001b[0m\u001b[0;34m.\u001b[0m\u001b[0mdownload\u001b[0m\u001b[0;34m(\u001b[0m\u001b[0;34m\"combined_nyc_data.parquet/part-00002-a885ebf6-99fc-43b1-a84a-6af58bfb90f4-c000.snappy.parquet\"\u001b[0m\u001b[0;34m)\u001b[0m\u001b[0;34m\u001b[0m\u001b[0;34m\u001b[0m\u001b[0m\n\u001b[0m",
            "\u001b[0;32m/usr/local/lib/python3.11/dist-packages/google/colab/files.py\u001b[0m in \u001b[0;36mdownload\u001b[0;34m(filename)\u001b[0m\n\u001b[1;32m    231\u001b[0m   \u001b[0;32mif\u001b[0m \u001b[0;32mnot\u001b[0m \u001b[0m_os\u001b[0m\u001b[0;34m.\u001b[0m\u001b[0mpath\u001b[0m\u001b[0;34m.\u001b[0m\u001b[0mexists\u001b[0m\u001b[0;34m(\u001b[0m\u001b[0mfilename\u001b[0m\u001b[0;34m)\u001b[0m\u001b[0;34m:\u001b[0m\u001b[0;34m\u001b[0m\u001b[0;34m\u001b[0m\u001b[0m\n\u001b[1;32m    232\u001b[0m     \u001b[0mmsg\u001b[0m \u001b[0;34m=\u001b[0m \u001b[0;34m'Cannot find file: {}'\u001b[0m\u001b[0;34m.\u001b[0m\u001b[0mformat\u001b[0m\u001b[0;34m(\u001b[0m\u001b[0mfilename\u001b[0m\u001b[0;34m)\u001b[0m\u001b[0;34m\u001b[0m\u001b[0;34m\u001b[0m\u001b[0m\n\u001b[0;32m--> 233\u001b[0;31m     \u001b[0;32mraise\u001b[0m \u001b[0mFileNotFoundError\u001b[0m\u001b[0;34m(\u001b[0m\u001b[0mmsg\u001b[0m\u001b[0;34m)\u001b[0m  \u001b[0;31m# pylint: disable=undefined-variable\u001b[0m\u001b[0;34m\u001b[0m\u001b[0;34m\u001b[0m\u001b[0m\n\u001b[0m\u001b[1;32m    234\u001b[0m \u001b[0;34m\u001b[0m\u001b[0m\n\u001b[1;32m    235\u001b[0m   \u001b[0mcomm_manager\u001b[0m \u001b[0;34m=\u001b[0m \u001b[0m_IPython\u001b[0m\u001b[0;34m.\u001b[0m\u001b[0mget_ipython\u001b[0m\u001b[0;34m(\u001b[0m\u001b[0;34m)\u001b[0m\u001b[0;34m.\u001b[0m\u001b[0mkernel\u001b[0m\u001b[0;34m.\u001b[0m\u001b[0mcomm_manager\u001b[0m\u001b[0;34m\u001b[0m\u001b[0;34m\u001b[0m\u001b[0m\n",
            "\u001b[0;31mFileNotFoundError\u001b[0m: Cannot find file: combined_nyc_data.parquet/part-00002-a885ebf6-99fc-43b1-a84a-6af58bfb90f4-c000.snappy.parquet"
          ]
        }
      ]
    }
  ]
}